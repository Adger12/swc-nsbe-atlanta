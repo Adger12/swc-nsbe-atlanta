{
 "cells": [
  {
   "cell_type": "code",
   "execution_count": 1,
   "metadata": {
    "collapsed": true
   },
   "outputs": [],
   "source": [
    "# Function Basics"
   ]
  },
  {
   "cell_type": "code",
   "execution_count": 2,
   "metadata": {
    "collapsed": true
   },
   "outputs": [],
   "source": [
    "def function_name():\n",
    "    print('This works!')"
   ]
  },
  {
   "cell_type": "code",
   "execution_count": 6,
   "metadata": {
    "collapsed": false
   },
   "outputs": [
    {
     "name": "stdout",
     "output_type": "stream",
     "text": [
      "This works!\n",
      "This works!\n",
      "This works!\n"
     ]
    }
   ],
   "source": [
    "function_name()\n",
    "function_name()\n",
    "function_name()"
   ]
  },
  {
   "cell_type": "code",
   "execution_count": null,
   "metadata": {
    "collapsed": true
   },
   "outputs": [],
   "source": [
    "# Functions with arguments (passing data in)"
   ]
  },
  {
   "cell_type": "code",
   "execution_count": 12,
   "metadata": {
    "collapsed": true
   },
   "outputs": [],
   "source": [
    "def function_with_arguments(some_text):\n",
    "    print(some_text)\n",
    "    \n",
    "def function_with__multiple_arguments(first_text, second_text):\n",
    "    print(first_text, second_text)"
   ]
  },
  {
   "cell_type": "code",
   "execution_count": 16,
   "metadata": {
    "collapsed": false,
    "scrolled": true
   },
   "outputs": [
    {
     "name": "stdout",
     "output_type": "stream",
     "text": [
      "This works!\n",
      "This works too!\n",
      "The same function, called 3 ways!\n",
      "print this print that\n"
     ]
    }
   ],
   "source": [
    "function_with_arguments('This works!')\n",
    "function_with_arguments('This works too!')\n",
    "function_with_arguments('The same function, called 3 ways!')\n",
    "function_with__multiple_arguments('print this', 'print that')"
   ]
  },
  {
   "cell_type": "code",
   "execution_count": null,
   "metadata": {
    "collapsed": true
   },
   "outputs": [],
   "source": [
    "# Variable scoping"
   ]
  },
  {
   "cell_type": "code",
   "execution_count": 18,
   "metadata": {
    "collapsed": false
   },
   "outputs": [
    {
     "name": "stdout",
     "output_type": "stream",
     "text": [
      "5\n",
      "1\n"
     ]
    }
   ],
   "source": [
    "in_the_scope = 1\n",
    "\n",
    "def scoping_example(in_the_scope):\n",
    "    in_the_scope = 5\n",
    "    print(in_the_scope)\n",
    "\n",
    "scoping_example(in_the_scope)\n",
    "print(in_the_scope)"
   ]
  },
  {
   "cell_type": "code",
   "execution_count": 19,
   "metadata": {
    "collapsed": true
   },
   "outputs": [],
   "source": [
    "# The return keyword (returning data)"
   ]
  },
  {
   "cell_type": "code",
   "execution_count": 24,
   "metadata": {
    "collapsed": true
   },
   "outputs": [],
   "source": [
    "def return_something(something):\n",
    "    return something\n",
    "\n",
    "def change_something(something):\n",
    "    return something + ' something new!'"
   ]
  },
  {
   "cell_type": "code",
   "execution_count": 25,
   "metadata": {
    "collapsed": false
   },
   "outputs": [
    {
     "name": "stdout",
     "output_type": "stream",
     "text": [
      "this\n",
      "this something new!\n"
     ]
    }
   ],
   "source": [
    "return_something_output = return_something('this')\n",
    "print(return_something_output)\n",
    "\n",
    "change_something_output = change_something('this')\n",
    "print(change_something_output)"
   ]
  },
  {
   "cell_type": "code",
   "execution_count": null,
   "metadata": {
    "collapsed": true
   },
   "outputs": [],
   "source": [
    "# Docstrings"
   ]
  },
  {
   "cell_type": "code",
   "execution_count": 26,
   "metadata": {
    "collapsed": true
   },
   "outputs": [],
   "source": [
    "def commented_with_comments():\n",
    "    # This code will not run! It's just to explain what's going on.\n",
    "    pass\n",
    "\n",
    "def commented_with_docstrings():\n",
    "    '''Now I can write a docstring!!!\n",
    "    \n",
    "    With blank lines!\n",
    "    \n",
    "    And this explains what this function does.\n",
    "    '''\n",
    "    pass"
   ]
  },
  {
   "cell_type": "code",
   "execution_count": 68,
   "metadata": {
    "collapsed": true
   },
   "outputs": [],
   "source": [
    "# An aside on strings"
   ]
  },
  {
   "cell_type": "code",
   "execution_count": 33,
   "metadata": {
    "collapsed": false
   },
   "outputs": [
    {
     "name": "stdout",
     "output_type": "stream",
     "text": [
      "I can't today\n",
      "I can't today\n"
     ]
    }
   ],
   "source": [
    "# Charecter escaping for nested quotes.\n",
    "print(\"I can't today\")\n",
    "print('I can\\'t today')"
   ]
  },
  {
   "cell_type": "code",
   "execution_count": 36,
   "metadata": {
    "collapsed": false
   },
   "outputs": [
    {
     "name": "stdout",
     "output_type": "stream",
     "text": [
      "This is one line \n",
      "This is another line\n"
     ]
    }
   ],
   "source": [
    "# Line breaks\n",
    "print('This is one line \\nThis is another line')"
   ]
  },
  {
   "cell_type": "code",
   "execution_count": 37,
   "metadata": {
    "collapsed": false
   },
   "outputs": [
    {
     "name": "stdout",
     "output_type": "stream",
     "text": [
      "This is some text\n",
      "\n",
      "\n",
      "and here is some more\n"
     ]
    }
   ],
   "source": [
    "# Multi-line strings (triple quotes)\n",
    "print('''This is some text\n",
    "\n",
    "\n",
    "and here is some more''')"
   ]
  },
  {
   "cell_type": "code",
   "execution_count": 41,
   "metadata": {
    "collapsed": false
   },
   "outputs": [
    {
     "name": "stdout",
     "output_type": "stream",
     "text": [
      "\n",
      "SELECT * Users\n",
      "WHERE user.email == \"user@gmail.com\n",
      "ORDER BY email\n",
      "\n"
     ]
    }
   ],
   "source": [
    "# I usually use this for SQL queries.\n",
    "print('''\n",
    "SELECT * Users\n",
    "WHERE user.email == \"user@gmail.com\n",
    "ORDER BY email\n",
    "''')"
   ]
  },
  {
   "cell_type": "code",
   "execution_count": null,
   "metadata": {
    "collapsed": true
   },
   "outputs": [],
   "source": [
    "# Write a function that returns the max value of a list of integers\n",
    "#\n",
    "# e.g.:\n",
    "# print(my_max([1,2,3]))\n",
    "# 3\n",
    "#\n",
    "# Concepts/hints: functions, function arguments, return, loops,\n",
    "# varaibles and comparators (>, <, =<. =>, ==).\n",
    "#\n",
    "# Bonus: What happens if you pass a string as the input argument?"
   ]
  },
  {
   "cell_type": "code",
   "execution_count": 64,
   "metadata": {
    "collapsed": false
   },
   "outputs": [],
   "source": [
    "def my_max(input_list):\n",
    "    max_value = input_list[0]\n",
    "    for item in input_list:\n",
    "        if item > max_value:\n",
    "            max_value = item\n",
    "    return max_value\n",
    "    "
   ]
  },
  {
   "cell_type": "code",
   "execution_count": 67,
   "metadata": {
    "collapsed": false
   },
   "outputs": [
    {
     "data": {
      "text/plain": [
       "100"
      ]
     },
     "execution_count": 67,
     "metadata": {},
     "output_type": "execute_result"
    }
   ],
   "source": [
    "my_max([-1,0,1,2,3,100])"
   ]
  },
  {
   "cell_type": "code",
   "execution_count": null,
   "metadata": {
    "collapsed": true
   },
   "outputs": [],
   "source": [
    "# Activity\n",
    "# \n",
    "# Write a function that returns the mean of a list.\n",
    "# Do not use built-in sum and lenth functions."
   ]
  },
  {
   "cell_type": "code",
   "execution_count": null,
   "metadata": {
    "collapsed": true
   },
   "outputs": [],
   "source": [
    "# Activity\n",
    "#\n",
    "# Concepts/hints: functions, function, arguemnts, return, loops, variables, if/else\n",
    "#\n",
    "# Given an array L of lenth n where the value of the kth node in the array is L[k] and the\n",
    "# value of the last node is expected to be -1 write a function that returns the value n, the\n",
    "# length of the list. Do NOT use the python built-in `len()` function."
   ]
  }
 ],
 "metadata": {
  "anaconda-cloud": {},
  "kernelspec": {
   "display_name": "Python 3",
   "language": "python",
   "name": "python3"
  },
  "language_info": {
   "codemirror_mode": {
    "name": "ipython",
    "version": 3
   },
   "file_extension": ".py",
   "mimetype": "text/x-python",
   "name": "python",
   "nbconvert_exporter": "python",
   "pygments_lexer": "ipython3",
   "version": "3.5.2"
  }
 },
 "nbformat": 4,
 "nbformat_minor": 1
}
