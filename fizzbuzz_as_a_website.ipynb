{
 "cells": [
  {
   "cell_type": "code",
   "execution_count": 1,
   "metadata": {
    "collapsed": false
   },
   "outputs": [],
   "source": [
    "# first we need to import the Flask class from the flask \n",
    "# microframework package.\n",
    "from flask import Flask\n",
    "\n",
    "# Create an instance of the Flask class.\n",
    "app = Flask(__name__)\n",
    "\n",
    "# Define the \"hello world\" case. A basic example of how Flask\n",
    "# routes work.\n",
    "@app.route(\"/\")\n",
    "def hello():\n",
    "    return \"Hello World!\"\n",
    "\n",
    "# An example of a route that uses a URL parameter.\n",
    "@app.route(\"/hello_user/<user_name>\")\n",
    "def hello_user(user_name):\n",
    "    return \"Hello, \" + user_name\n",
    "\n",
    "# Expanding on the last example to turn our fizzbuzz function\n",
    "# from the last notebook into a web service.\n",
    "@app.route(\"/fizzbuzz/<input_string>\")\n",
    "def fizz_buzz(input_string):\n",
    "    if 'buzz' in input_string and 'fizz' in input_string:\n",
    "        return 'fizzbuzz'\n",
    "    elif 'fizz' in input_string:\n",
    "        return 'fizz'\n",
    "    elif 'buzz' in input_string:\n",
    "        return 'buzz'"
   ]
  },
  {
   "cell_type": "code",
   "execution_count": null,
   "metadata": {
    "collapsed": false
   },
   "outputs": [
    {
     "name": "stderr",
     "output_type": "stream",
     "text": [
      " * Running on http://127.0.0.1:5000/ (Press CTRL+C to quit)\n",
      "127.0.0.1 - - [03/Nov/2016 16:40:09] \"GET /hello_user/neem HTTP/1.1\" 200 -\n",
      "127.0.0.1 - - [03/Nov/2016 16:40:11] \"GET /hello_user/me HTTP/1.1\" 200 -\n",
      "127.0.0.1 - - [03/Nov/2016 16:40:14] \"GET / HTTP/1.1\" 200 -\n",
      "127.0.0.1 - - [03/Nov/2016 16:40:22] \"GET /fizzbuzz/fizz HTTP/1.1\" 200 -\n",
      "127.0.0.1 - - [03/Nov/2016 16:40:25] \"GET /fizzbuzz/buzz HTTP/1.1\" 200 -\n",
      "127.0.0.1 - - [03/Nov/2016 16:40:31] \"GET /fizzbuzz/fizzbuzz HTTP/1.1\" 200 -\n"
     ]
    }
   ],
   "source": [
    "# Run the app. Note you will have to restart the kernel and\n",
    "# rerun all the cell every time you update your routes.\n",
    "app.run()"
   ]
  },
  {
   "cell_type": "code",
   "execution_count": null,
   "metadata": {
    "collapsed": true
   },
   "outputs": [],
   "source": []
  }
 ],
 "metadata": {
  "anaconda-cloud": {},
  "kernelspec": {
   "display_name": "Python 3",
   "language": "python",
   "name": "python3"
  },
  "language_info": {
   "codemirror_mode": {
    "name": "ipython",
    "version": 3
   },
   "file_extension": ".py",
   "mimetype": "text/x-python",
   "name": "python",
   "nbconvert_exporter": "python",
   "pygments_lexer": "ipython3",
   "version": "3.5.2"
  }
 },
 "nbformat": 4,
 "nbformat_minor": 1
}
