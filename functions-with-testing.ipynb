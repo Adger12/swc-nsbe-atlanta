{
 "cells": [
  {
   "cell_type": "code",
   "execution_count": 1,
   "metadata": {
    "collapsed": true
   },
   "outputs": [],
   "source": [
    "# The assert statement"
   ]
  },
  {
   "cell_type": "code",
   "execution_count": 10,
   "metadata": {
    "collapsed": false
   },
   "outputs": [],
   "source": [
    "assert True\n",
    "assert 1 < 2\n",
    "assert 1 == 1\n",
    "assert 'abc' == 'abc'"
   ]
  },
  {
   "cell_type": "code",
   "execution_count": 13,
   "metadata": {
    "collapsed": false
   },
   "outputs": [
    {
     "ename": "AssertionError",
     "evalue": "Something is false",
     "output_type": "error",
     "traceback": [
      "\u001b[0;31m---------------------------------------------------------------------------\u001b[0m",
      "\u001b[0;31mAssertionError\u001b[0m                            Traceback (most recent call last)",
      "\u001b[0;32m<ipython-input-13-a02704d95e54>\u001b[0m in \u001b[0;36m<module>\u001b[0;34m()\u001b[0m\n\u001b[0;32m----> 1\u001b[0;31m \u001b[0;32massert\u001b[0m \u001b[0;32mFalse\u001b[0m\u001b[0;34m,\u001b[0m \u001b[0;34m'Something is false'\u001b[0m\u001b[0;34m\u001b[0m\u001b[0m\n\u001b[0m\u001b[1;32m      2\u001b[0m \u001b[0;32massert\u001b[0m \u001b[0;36m1\u001b[0m \u001b[0;34m>\u001b[0m \u001b[0;36m2\u001b[0m\u001b[0;34m\u001b[0m\u001b[0m\n\u001b[1;32m      3\u001b[0m \u001b[0;32massert\u001b[0m \u001b[0;36m1\u001b[0m \u001b[0;34m!=\u001b[0m \u001b[0;36m1\u001b[0m\u001b[0;34m\u001b[0m\u001b[0m\n",
      "\u001b[0;31mAssertionError\u001b[0m: Something is false"
     ]
    }
   ],
   "source": [
    "assert False, 'Something is false'\n",
    "assert 1 > 2\n",
    "assert 1 != 1"
   ]
  },
  {
   "cell_type": "code",
   "execution_count": 14,
   "metadata": {
    "collapsed": true
   },
   "outputs": [],
   "source": [
    "# Testing with assert"
   ]
  },
  {
   "cell_type": "code",
   "execution_count": 19,
   "metadata": {
    "collapsed": true
   },
   "outputs": [],
   "source": [
    "def test_max():\n",
    "    '''Tests that Python\\'s built-in max \n",
    "    functions operates as expected.\n",
    "    '''\n",
    "    assert max([1,2,3]) == 3, 'Expected 3'"
   ]
  },
  {
   "cell_type": "code",
   "execution_count": 20,
   "metadata": {
    "collapsed": false
   },
   "outputs": [],
   "source": [
    "# Test Driven Development with FizzBuzz"
   ]
  },
  {
   "cell_type": "code",
   "execution_count": 43,
   "metadata": {
    "collapsed": true
   },
   "outputs": [],
   "source": [
    "def test_fizz_buzz():\n",
    "    '''This is our test suite. It defines the expected behavior of the\n",
    "    fizzbuzz function.\n",
    "    \n",
    "    Think of this as a formal \"statement of the problem\" in Python.\n",
    "    '''\n",
    "    # If \"fizz\" is in the string return \"fizz\"\n",
    "    # e.g. assert fizz_buzz(???) == ???\n",
    "    assert fizz_buzz('fizz') == 'fizz', 'Expected fizz'\n",
    "    assert fizz_buzz('13123fizz31231') == 'fizz', 'Expected fizz'\n",
    "\n",
    "    # If \"buzz\" is in the string return \"buzz\"\n",
    "    assert fizz_buzz('buzz') == 'buzz', 'Expected buzz'\n",
    "    assert fizz_buzz('13123buzz31231') == 'buzz', 'Expected buzz'\n",
    "    \n",
    "    # If \"fizz\" and \"buzz\" are in the string return \"fizzbuzz\"\n",
    "    assert fizz_buzz('fizzbuzz') == 'fizzbuzz', 'Expected fizzbuzz'\n",
    "    assert fizz_buzz('13123fizzbuzz31231') == 'fizzbuzz', 'Expected fizzbuzz'\n",
    "    assert fizz_buzz('fizz1234buzz') == 'fizzbuzz', 'Expected fizzbuzz'\n",
    "    assert fizz_buzz('13123fizz1234buzz31231') == 'fizzbuzz', 'Expected fizzbuzz'\n"
   ]
  },
  {
   "cell_type": "code",
   "execution_count": 42,
   "metadata": {
    "collapsed": true
   },
   "outputs": [],
   "source": [
    "def fizz_buzz(input_string):\n",
    "    '''This is the a possible function (there are others)\n",
    "    that satisfies the requirements of the tests defined in\n",
    "    the test_fizz_buzz function.\n",
    "    '''\n",
    "    if 'buzz' in input_string and 'fizz' in input_string:\n",
    "        return 'fizzbuzz'\n",
    "    elif 'fizz' in input_string:\n",
    "        return 'fizz'\n",
    "    elif 'buzz' in input_string:\n",
    "        return 'buzz'"
   ]
  },
  {
   "cell_type": "code",
   "execution_count": null,
   "metadata": {
    "collapsed": false
   },
   "outputs": [],
   "source": []
  },
  {
   "cell_type": "code",
   "execution_count": null,
   "metadata": {
    "collapsed": false
   },
   "outputs": [],
   "source": []
  },
  {
   "cell_type": "code",
   "execution_count": null,
   "metadata": {
    "collapsed": false
   },
   "outputs": [],
   "source": []
  },
  {
   "cell_type": "code",
   "execution_count": null,
   "metadata": {
    "collapsed": true
   },
   "outputs": [],
   "source": []
  }
 ],
 "metadata": {
  "anaconda-cloud": {},
  "kernelspec": {
   "display_name": "Python 3",
   "language": "python",
   "name": "python3"
  },
  "language_info": {
   "codemirror_mode": {
    "name": "ipython",
    "version": 3
   },
   "file_extension": ".py",
   "mimetype": "text/x-python",
   "name": "python",
   "nbconvert_exporter": "python",
   "pygments_lexer": "ipython3",
   "version": "3.5.2"
  }
 },
 "nbformat": 4,
 "nbformat_minor": 1
}
