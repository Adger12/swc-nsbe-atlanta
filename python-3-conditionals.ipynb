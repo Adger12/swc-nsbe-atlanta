{
 "cells": [
  {
   "cell_type": "markdown",
   "metadata": {},
   "source": [
    "# Basic Programming Using Python: Making Decisions"
   ]
  },
  {
   "cell_type": "markdown",
   "metadata": {},
   "source": [
    "What we really want is a way for the computer to make decisions based on the data it is processing.\n",
    "The tool that does that is the conditional statement,\n",
    "often called an \"if statement\" because of how it's written:"
   ]
  },
  {
   "cell_type": "code",
   "execution_count": null,
   "metadata": {
    "collapsed": false
   },
   "outputs": [],
   "source": [
    "if 5 > 0:\n",
    "    print('5 is greater than 0')\n",
    "if 5 < 0:\n",
    "    print('5 should not be less than 0')"
   ]
  },
  {
   "cell_type": "markdown",
   "metadata": {},
   "source": [
    "A conditional statement starts with the word `if`,\n",
    "followed by an expression that can be either true or false.\n",
    "If the expression is true,\n",
    "Python executes the block of code underneath the `if`;\n",
    "if it's false,\n",
    "Python skips that block:"
   ]
  },
  {
   "cell_type": "markdown",
   "metadata": {},
   "source": [
    "We often want to do one thing when a condition is true,\n",
    "and another thing when the condition is false,\n",
    "so Python allows us to attach an `else` to an `if` like this:"
   ]
  },
  {
   "cell_type": "code",
   "execution_count": null,
   "metadata": {
    "collapsed": false
   },
   "outputs": [],
   "source": [
    "abc = 'abc'\n",
    "if 'a' == 'a':\n",
    "    print('whoops: \"abc\" should be less than \"xyz\"')\n",
    "else:\n",
    "    print('correct: \"abc\" is less than \"xyz\"')"
   ]
  },
  {
   "cell_type": "code",
   "execution_count": null,
   "metadata": {
    "collapsed": false
   },
   "outputs": [],
   "source": [
    "num = 37\n",
    "if num > 100:\n",
    "    print('greater')\n",
    "else:\n",
    "    print('not greater')\n",
    "print('done')"
   ]
  },
  {
   "cell_type": "markdown",
   "metadata": {},
   "source": [
    "The second line of this code uses the keyword `if` to tell Python that we want to make a choice.\n",
    "If the test that follows it is true,\n",
    "the body of the `if`\n",
    "(i.e., the lines indented underneath it) are executed.\n",
    "If the test is false,\n",
    "the body of the `else` is executed instead.\n",
    "Only one or the other is ever executed"
   ]
  },
  {
   "cell_type": "markdown",
   "metadata": {},
   "source": [
    "We can use another keyword,\n",
    "`elif`,\n",
    "to insert additional tests after the `if`.\n",
    "Python checks each one in order,\n",
    "and executes the code block belonging to the first one that's true.\n",
    "If none of them are,\n",
    "it executes the `else`,\n",
    "or does nothing at all if an `else` hasn't been provided:"
   ]
  },
  {
   "cell_type": "code",
   "execution_count": null,
   "metadata": {
    "collapsed": false
   },
   "outputs": [],
   "source": [
    "for number in range(-2, 3): # produces -2, -1, 0, 1, 2\n",
    "    if number < 0:\n",
    "        print(number, 'is negative')\n",
    "    elif number == 0:\n",
    "        print(number, 'is zero')\n",
    "    else:\n",
    "        print(number, 'must be positive')"
   ]
  },
  {
   "cell_type": "markdown",
   "metadata": {},
   "source": [
    "## Boolean Values and Operators"
   ]
  },
  {
   "cell_type": "markdown",
   "metadata": {},
   "source": [
    "Most people understand that 5+3 produces the value 8,\n",
    "but it can take a while to realize that 5>3 also produces a value.\n",
    "Let's do a few experiments:"
   ]
  },
  {
   "cell_type": "code",
   "execution_count": null,
   "metadata": {
    "collapsed": false
   },
   "outputs": [],
   "source": [
    "print('5 is greater than 3:', 5 > 3)\n",
    "print('5 is less than 3:', 5 < 3)"
   ]
  },
  {
   "cell_type": "markdown",
   "metadata": {},
   "source": [
    "The result of an expression like 5>3 is the Boolean `True`;\n",
    "the result of 5<3 is the Boolean `False`.\n",
    "Those are the only two values of the type `bool`:\n",
    "there are many thousands of different characters,\n",
    "and millions of integers and floating-point numbers,\n",
    "but `True` and `False` are all that `bool` gets.\n",
    "Like other values,\n",
    "Booleans can be assigned to variables:"
   ]
  },
  {
   "cell_type": "code",
   "execution_count": null,
   "metadata": {
    "collapsed": false
   },
   "outputs": [],
   "source": [
    "answer = 5 > 3\n",
    "print('answer stored in variable:', answer)"
   ]
  },
  {
   "cell_type": "markdown",
   "metadata": {},
   "source": [
    "Booleans can also be used directly in conditional statements:"
   ]
  },
  {
   "cell_type": "code",
   "execution_count": null,
   "metadata": {
    "collapsed": false
   },
   "outputs": [],
   "source": [
    "if answer:\n",
    "    print('answer is true')"
   ]
  },
  {
   "cell_type": "markdown",
   "metadata": {},
   "source": [
    "Note that we do *not* write `if answer == True`.\n",
    "`answer` itself is either `True` or `False`,\n",
    "and that's all `if` needs.\n",
    "As the table below shows,\n",
    "comparing a Boolean to `True` is redundant:"
   ]
  },
  {
   "cell_type": "markdown",
   "metadata": {},
   "source": [
    "<table>\n",
    "<tr><th>Value</th><th>`== True`</th></tr>\n",
    "<tr><td>`True`</td><td>`True`</td></tr>\n",
    "<tr><td>`False`</td><td>`False`</td></tr>\n",
    "</table>"
   ]
  },
  {
   "cell_type": "markdown",
   "metadata": {},
   "source": [
    "Booleans can be manipulated using three operators: `and`, `or`, and `not`.\n",
    "The third is the simplest:\n",
    "if `x` is `True`,\n",
    "`not x` is `False`\n",
    "and vice versa.\n",
    "`and` produces `True` only if both of its operands are `True`,\n",
    "while `or` produces `True` if either or both of its operands are `True`."
   ]
  },
  {
   "cell_type": "markdown",
   "metadata": {},
   "source": [
    "Python evaluates `and` and `or` a bit differently from\n",
    "the way it evaluates arithmetic operators like `+` and `*`.\n",
    "When Python executes `x+y`,\n",
    "it gets the values of `x` and `y` before performing the addition,\n",
    "but is allowed to decide for itself whether to get `x` or `y` first.\n",
    "When it evaluates `x or y`,\n",
    "on the other hand,\n",
    "it always starts by checking whether `x` is `True`.\n",
    "If it is,\n",
    "it stops evaluation right there:\n",
    "since `or` is `True` if either operand is `True`,\n",
    "Python doesn't need to know the value of `y` in order to complete its calculations.\n",
    "If `x` is `False`,\n",
    "on the other hand,\n",
    "Python must get `y` in order to figure out the expression's final value."
   ]
  },
  {
   "cell_type": "markdown",
   "metadata": {},
   "source": [
    "Similarly,\n",
    "when Python evaluates `x and y`,\n",
    "it always starts by getting the value of `x`.\n",
    "If this is `False`,\n",
    "the result is bound to be `False`,\n",
    "so Python doesn't even try to get the value of `y`.\n",
    "This is called short-circuit evaluation,\n",
    "and is often used to do things like this:"
   ]
  },
  {
   "cell_type": "markdown",
   "metadata": {},
   "source": [
    "```python\n",
    "if (number != 0) or (1/number < threshold):\n",
    "    total += 1/number\n",
    "```"
   ]
  },
  {
   "cell_type": "markdown",
   "metadata": {},
   "source": [
    "Without that first test,\n",
    "the `if` would blow up if `number` was zero.\n",
    "Since Python always executes the check for zero *before* checking the reciprocal of `number`,\n",
    "though,\n",
    "this is safe to execute."
   ]
  },
  {
   "cell_type": "markdown",
   "metadata": {},
   "source": [
    "One other thing that's special about Booleans is that\n",
    "values of almost any other type can be used in their place.\n",
    "The numbers 0 and 0.0 are treated as equivalent to `False`,\n",
    "and so is the empty string `''`;\n",
    "all other numbers and strings are equivalent to `True`.\n",
    "This means that we can rewrite:"
   ]
  },
  {
   "cell_type": "markdown",
   "metadata": {},
   "source": [
    "```python\n",
    "if len(some_string) > 0:\n",
    "    ...do something...\n",
    "```"
   ]
  },
  {
   "cell_type": "markdown",
   "metadata": {},
   "source": [
    "as:"
   ]
  },
  {
   "cell_type": "markdown",
   "metadata": {},
   "source": [
    "```python\n",
    "if len(some_string):\n",
    "    ...do something...\n",
    "```"
   ]
  },
  {
   "cell_type": "markdown",
   "metadata": {},
   "source": [
    "or even just as:"
   ]
  },
  {
   "cell_type": "markdown",
   "metadata": {},
   "source": [
    "```python\n",
    "if some_string:\n",
    "    ...do something...\n",
    "```"
   ]
  },
  {
   "cell_type": "markdown",
   "metadata": {},
   "source": [
    "The first version checks that the length of the string is greater than zero,\n",
    "i.e.,\n",
    "that the string contains some characters.\n",
    "The second version checks that the length of the string is not zero;\n",
    "since the length can't be negative,\n",
    "this is the same as checking that it's positive.\n",
    "The final version just checks that `some_string` is not the empty string:\n",
    "it's the shortest,\n",
    "the most efficient to execute,\n",
    "and the one that most experienced Python programmers would write,\n",
    "but it also puts the greatest burden on the reader.\n",
    "Which one you use is up to you,\n",
    "but whatever you do,\n",
    "please be consistent:\n",
    "many studies have shown that people can learn to read almost anything quickly\n",
    "as long as there are patterns for their eyes and brain to follow"
   ]
  },
  {
   "cell_type": "markdown",
   "metadata": {},
   "source": [
    "## Key Points"
   ]
  },
  {
   "cell_type": "markdown",
   "metadata": {},
   "source": [
    "- Use `if`/`elif`/`else` to make choices in programs.\n",
    "- Booleans are useful to determine paths in conditional statements."
   ]
  },
  {
   "cell_type": "markdown",
   "metadata": {},
   "source": [
    "# Choose Your Own Adventure!"
   ]
  },
  {
   "cell_type": "code",
   "execution_count": null,
   "metadata": {
    "collapsed": false
   },
   "outputs": [],
   "source": [
    "def adventure():\n",
    "    print(\"You've just entered a choose your own adventure!\")\n",
    "    print(\"You appear in a dark room.  There are tunnels facing north, east, south, and west.  Which one do you take?\")\n",
    "    answer = input(\"Type north, east, south, or west and hit 'Enter'.\").lower()\n",
    "    if answer == \"north\":\n",
    "        print(\"Cupcake room!  Best room ever!\")\n",
    "    elif answer == \"east\":\n",
    "        print(\"Dark gloomy tunnel.  You feel bored.\")\n",
    "    elif answer == \"south\":\n",
    "        print(\"You appear in your childhood living room.  You look around confused.\")\n",
    "    elif answer == \"west\":\n",
    "        print(\"A puzzled-looking unicorn stares out at you.\")\n",
    "    else:\n",
    "        print(\"You didn't pick a direction! Try again.\")\n",
    "        adventure()\n",
    "\n",
    "adventure()"
   ]
  },
  {
   "cell_type": "markdown",
   "metadata": {},
   "source": [
    "Try expanding the choose your own adventure to continue spelunking (ex. use booleans, make new functions for new rooms, etc.)"
   ]
  }
 ],
 "metadata": {
  "anaconda-cloud": {},
  "kernelspec": {
   "display_name": "Python [conda root]",
   "language": "python",
   "name": "conda-root-py"
  },
  "language_info": {
   "codemirror_mode": {
    "name": "ipython",
    "version": 3
   },
   "file_extension": ".py",
   "mimetype": "text/x-python",
   "name": "python",
   "nbconvert_exporter": "python",
   "pygments_lexer": "ipython3",
   "version": "3.5.2"
  }
 },
 "nbformat": 4,
 "nbformat_minor": 0
}
